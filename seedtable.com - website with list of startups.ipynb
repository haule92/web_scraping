{
 "cells": [
  {
   "cell_type": "code",
   "execution_count": null,
   "metadata": {},
   "outputs": [],
   "source": [
    "import pandas as pd\n",
    "import requests\n",
    "from bs4 import BeautifulSoup"
   ]
  },
  {
   "cell_type": "code",
   "execution_count": null,
   "metadata": {},
   "outputs": [],
   "source": [
    "url = input()"
   ]
  },
  {
   "cell_type": "code",
   "execution_count": null,
   "metadata": {},
   "outputs": [],
   "source": [
    "page = requests.get(url)\n",
    "page"
   ]
  },
  {
   "cell_type": "code",
   "execution_count": null,
   "metadata": {},
   "outputs": [],
   "source": [
    "name = url[26:]\n",
    "name"
   ]
  },
  {
   "cell_type": "code",
   "execution_count": null,
   "metadata": {},
   "outputs": [],
   "source": [
    "soup = BeautifulSoup(page.text, 'html.parser')"
   ]
  },
  {
   "cell_type": "code",
   "execution_count": null,
   "metadata": {},
   "outputs": [],
   "source": [
    "companies_lst = soup.find_all(\"div\",{\"features-more-wrapper\"})"
   ]
  },
  {
   "cell_type": "code",
   "execution_count": null,
   "metadata": {
    "scrolled": false
   },
   "outputs": [],
   "source": [
    "location_companies_lst = []\n",
    "name_companies_lst = []\n",
    "raw_links = []\n",
    "description_companies_lst = []\n",
    "raw_webs = []\n",
    "raw_linkedin = []\n",
    "web_link_companies_lst = []\n",
    "linkedin_link_companies_lst = []\n",
    "\n",
    "for company in companies_lst:\n",
    "    name_companies_lst.append(company.find(\"h2\").text)\n",
    "    raw_links.append(company.find_all(\"a\"))\n",
    "    location_companies_lst.append(company.find(\"p\",\"location\").text)\n",
    "    description_companies_lst.append(company.find(\"p\",\"description\").text)\n",
    "\n",
    "for lst in raw_links:\n",
    "    raw_webs.append(lst[0])\n",
    "    raw_linkedin.append(lst[2])\n",
    "\n",
    "for link in raw_webs:\n",
    "    web_link_companies_lst.append(link.get(\"href\"))\n",
    "for link in raw_linkedin:\n",
    "    linkedin_link_companies_lst.append(link.get(\"href\"))"
   ]
  },
  {
   "cell_type": "code",
   "execution_count": null,
   "metadata": {},
   "outputs": [],
   "source": [
    "df = pd.DataFrame({\"location\":location_companies_lst,\n",
    "                   \"name\":name_companies_lst,\n",
    "                   \"description\":description_companies_lst,\n",
    "                   \"web_link\":web_link_companies_lst,\n",
    "                   \"linkedin_link\":linkedin_link_companies_lst})"
   ]
  },
  {
   "cell_type": "code",
   "execution_count": null,
   "metadata": {},
   "outputs": [],
   "source": [
    "df.to_csv(f\"{name}.csv\")"
   ]
  }
 ],
 "metadata": {
  "kernelspec": {
   "display_name": "Python 3",
   "language": "python",
   "name": "python3"
  },
  "language_info": {
   "codemirror_mode": {
    "name": "ipython",
    "version": 3
   },
   "file_extension": ".py",
   "mimetype": "text/x-python",
   "name": "python",
   "nbconvert_exporter": "python",
   "pygments_lexer": "ipython3",
   "version": "3.7.3"
  }
 },
 "nbformat": 4,
 "nbformat_minor": 2
}
